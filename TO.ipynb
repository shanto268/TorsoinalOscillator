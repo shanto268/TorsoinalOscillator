{
 "cells": [
  {
   "cell_type": "markdown",
   "id": "suffering-premiere",
   "metadata": {},
   "source": [
    "# Big $G$ Measurement\n",
    "\n",
    "**Sadman Ahmed Shanto**\n",
    "\n",
    "---\n",
    "## Table of Contents:\n",
    "* Background and Theory\n",
    "* Experimental Progress Report\n",
    "* Project Questions\n",
    "* Conclusion & Summary\n",
    "---\n",
    "\n",
    "# Background and Theory:"
   ]
  },
  {
   "cell_type": "markdown",
   "id": "dental-revelation",
   "metadata": {},
   "source": [
    "## Day 1:\n",
    "\n",
    "Played around with the TO apparatus trying to understand how it works. We found a wire that was good for our project, however, it didn't have hoops for attaching the masses. So we looped it to make it work. The length was too long so with permission from Dr. Akchurin we cut it.\n",
    "\n",
    "We realized upon further investigation that this set up cannot be used to do calculate $G$ because the forces are vertical aligning with the influence of Earth.\n",
    "\n",
    "We are now thinking about using the Torsional Pendulum set up for conducting our experiment.\n",
    "\n",
    "## Day 2:\n",
    "\n",
    "After we reported the issues to the instructors and shared our resolutions. We were asked by Dr. Akchurin to look for a torsion wire (or the closest thing) from the Machine shop and to carry out our hobbyist version of the experiment since it may not be possible to fix the Torsional Balance apparatus.\n",
    "\n",
    "In the meanwhile, we started to look into a theoretical prediction for the value of $G$ by connecting ideas from Higg's mechanism and loop quantum theory of gravity. This excursion was a pleasant yet futile use of time.\n",
    "\n",
    "## Day 3:\n",
    "\n",
    "While waiting on the machine shop experts to return from lunch break, I looked around the lab rooms to seek any wires that could be of use to our experiment. We did not find any.\n",
    "\n",
    "After talking to Kim about our issue, he said that he could possibly fix the Torsional Balance apparatus. He found an extra torsion wire in his supplies and he took the apparatus in the shop to work on it. He insisted that he perform the procedure himself rather than us since there is only one wire left and there is no room for error. Kim returned to room 030 and was asking if we saw a \"small copper holder screw\" that he accidentally dropped while transporting the apparatus. We searched for an hour and it is nowhere to be found (it is really thin and light). Kim assured us that it he probably had a replacement and left.\n",
    "\n",
    "Four hours later, Kim brought back the apparatus. He, sadly, had snapped the torsion wire since it was a very tricky procedure so he decided to use a fine **0.2337 mm** copper wire instead. Due to the ductile nature of the copper wire, it will stretch due to the weight of the hanging masses and he instructed us how to restore the hanging mass system to default if it does so by loosening and pulling the top screw.\n",
    "\n",
    "He further showed us how to manipulate the equipment to conduct our experiment. He has advised us to **handle the apparatus very gently** and **to always lock the masses before moving the apparatus**. This is crucial to make sure the apparatus is functioning and not out of order since torque of the hanging masses will snap the wire. He also asked us to report our best finding to him so that he can assess the viability of using copper wires instead of the  standard *torsion wire* to carry out this experiment.\n",
    "\n",
    "He has also given us the laser needed to make the angle displacement measurements.\n",
    "\n",
    "## Day 4:\n",
    "\n",
    "Today, we set up the laser and devised a measurement screen to record the change in mirror movements through change of laser pointer.\n",
    "\n",
    "Before, starting the experiment, we ensured the system had no \"zero error\". This was done by having the masses move freely over the circular pad by dialing the knobs after it was kept on flat surface. We also adjusted the length of the copper wire as we saw it give over the last day. \n",
    "\n",
    "We took data for two half an hour runs and recorded the screen the entire time. The measurements show no real change of position of the laser pointer, this may be due to the short length between the mirror and screen. However, upon investigation we conclude that it is the copper wire and its properties that was the culprit and not the distance. We hypothesize that it is the ductility of copper and its low $\\kappa$ value and possible non linear relationship between torque that makes it not have the same properties as a torsion wire. \n",
    "\n",
    "## Day 5:\n",
    "\n",
    "We pivoted our experimental design yet again and followed the one outlined by **[Valdes]** with modifications. We changed We used the Torsional Oscillator set up, dismounted the permanent magnets to allow the disc to rotate freely and used a $50.5 \\pm 0.01$ cm rod. We hung two $0.05$ kg masses with a separation distance of $0.485 \\pm 0.0001$ m between them.\n",
    "\n",
    "\n",
    "We changed the layout and added more bricks.\n",
    "\n",
    "- talk about changes in experimental design\n",
    "- issues we ran in getting experiment started\n",
    "- experimental set up\n",
    "\n",
    "## Day 6:\n",
    "\n",
    "- experiment started after midnight\n",
    "\n",
    "\n",
    "## Day 7:\n",
    "\n",
    "- analysis + clean up\n",
    "\n",
    "## Notes for Future Cohorts/TA:\n",
    "\n",
    "- kim's advice\n",
    "- manual changes needed"
   ]
  },
  {
   "cell_type": "code",
   "execution_count": 1,
   "id": "contrary-island",
   "metadata": {},
   "outputs": [],
   "source": [
    "secs = 2*3600\n",
    "storage = 5 \n",
    "fidelity = 30"
   ]
  },
  {
   "cell_type": "code",
   "execution_count": 3,
   "id": "developmental-pharmacology",
   "metadata": {},
   "outputs": [
    {
     "data": {
      "text/plain": [
       "240.0"
      ]
     },
     "execution_count": 3,
     "metadata": {},
     "output_type": "execute_result"
    }
   ],
   "source": [
    "num_pics = secs/fidelity\n",
    "num_pics"
   ]
  },
  {
   "cell_type": "code",
   "execution_count": 5,
   "id": "civilian-scheduling",
   "metadata": {},
   "outputs": [
    {
     "data": {
      "text/plain": [
       "1200.0"
      ]
     },
     "execution_count": 5,
     "metadata": {},
     "output_type": "execute_result"
    }
   ],
   "source": [
    "file_size = num_pics*storage\n",
    "file_size"
   ]
  },
  {
   "cell_type": "markdown",
   "id": "intimate-wealth",
   "metadata": {},
   "source": [
    "# Questions\n",
    "\n",
    "1. Derive big $G$ and identify the important variables. Explain how your experiment limits these variables.\n",
    "\n",
    "\n",
    "\n",
    "$$F_g = G \\frac{m_1 m_ 2}{r^2} $$\n",
    "\n",
    "$$\\tau = ~\\vec{d} × \\vec{F}_g$$\n",
    "\n",
    "$$\\tau_t = \\kappa \\theta $$\n",
    "\n",
    "$$ T = 2 \\pi \\sqrt{\\frac{I}{\\kappa}} $$\n",
    "\n",
    "At equilibrium,\n",
    "\n",
    "$$\\tau_t = F_g $$\n",
    "\n",
    "$$ \\frac{\\kappa \\theta}{D} = G \\frac{m_1 m_ 2}{r^2} $$\n",
    "\n",
    "\n",
    "$$ \\frac{4 \\pi^2 I \\theta}{D T^2} = G \\frac{m_1 m_ 2}{r^2} $$\n",
    "\n",
    "\n",
    "$$ G = \\frac{4 \\pi^2 I \\theta r^2}{D T^2 m_1 m_ 2}  $$\n",
    "\n",
    "---\n",
    "\n",
    "2. What are the possible errors in your apparatus and how could they be removed?\n",
    "\n",
    "---\n",
    "\n",
    "3. Why is the gravity ignored when finding the force between two charged particles? (Hint: take the ratio between the electric force and the gravitational force.)\n",
    "\n",
    "---\n",
    "\n",
    "4. Describe the Cavendish Apparatus.\n",
    "\n",
    "---\n",
    "\n",
    "5. If you were to use a Cavendish Apparatus to calculate $G$, what errors would you expect to see and how would you eliminate them?\n",
    "\n",
    "---"
   ]
  },
  {
   "cell_type": "markdown",
   "id": "mobile-furniture",
   "metadata": {},
   "source": [
    "# Analysis of Data"
   ]
  },
  {
   "cell_type": "code",
   "execution_count": null,
   "id": "scientific-wholesale",
   "metadata": {},
   "outputs": [],
   "source": []
  }
 ],
 "metadata": {
  "hide_input": false,
  "kernelspec": {
   "display_name": "Python 3",
   "language": "python",
   "name": "python3"
  },
  "language_info": {
   "codemirror_mode": {
    "name": "ipython",
    "version": 3
   },
   "file_extension": ".py",
   "mimetype": "text/x-python",
   "name": "python",
   "nbconvert_exporter": "python",
   "pygments_lexer": "ipython3",
   "version": "3.8.3"
  },
  "toc": {
   "base_numbering": 1,
   "nav_menu": {},
   "number_sections": true,
   "sideBar": true,
   "skip_h1_title": false,
   "title_cell": "Table of Contents",
   "title_sidebar": "Contents",
   "toc_cell": false,
   "toc_position": {},
   "toc_section_display": true,
   "toc_window_display": false
  },
  "varInspector": {
   "cols": {
    "lenName": 16,
    "lenType": 16,
    "lenVar": 40
   },
   "kernels_config": {
    "python": {
     "delete_cmd_postfix": "",
     "delete_cmd_prefix": "del ",
     "library": "var_list.py",
     "varRefreshCmd": "print(var_dic_list())"
    },
    "r": {
     "delete_cmd_postfix": ") ",
     "delete_cmd_prefix": "rm(",
     "library": "var_list.r",
     "varRefreshCmd": "cat(var_dic_list()) "
    }
   },
   "types_to_exclude": [
    "module",
    "function",
    "builtin_function_or_method",
    "instance",
    "_Feature"
   ],
   "window_display": false
  }
 },
 "nbformat": 4,
 "nbformat_minor": 5
}
